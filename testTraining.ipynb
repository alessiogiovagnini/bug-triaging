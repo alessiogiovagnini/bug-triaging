{
 "cells": [
  {
   "cell_type": "code",
   "execution_count": 13,
   "metadata": {},
   "outputs": [
    {
     "name": "stderr",
     "output_type": "stream",
     "text": [
      "8126.32s - pydevd: Sending message related to process being replaced timed-out after 5 seconds\n"
     ]
    },
    {
     "name": "stdout",
     "output_type": "stream",
     "text": [
      "Requirement already satisfied: transformers in ./.venv/lib/python3.12/site-packages (4.45.1)\n",
      "Requirement already satisfied: torch in ./.venv/lib/python3.12/site-packages (2.4.1)\n",
      "Requirement already satisfied: accelerate in ./.venv/lib/python3.12/site-packages (0.34.2)\n",
      "Requirement already satisfied: datasets in ./.venv/lib/python3.12/site-packages (3.0.1)\n",
      "Requirement already satisfied: evaluate in ./.venv/lib/python3.12/site-packages (0.4.3)\n",
      "Requirement already satisfied: numpy in ./.venv/lib/python3.12/site-packages (2.1.1)\n",
      "Requirement already satisfied: pandas in ./.venv/lib/python3.12/site-packages (2.2.3)\n",
      "Requirement already satisfied: scikit-learn in ./.venv/lib/python3.12/site-packages (1.5.2)\n",
      "Requirement already satisfied: filelock in ./.venv/lib/python3.12/site-packages (from transformers) (3.16.1)\n",
      "Requirement already satisfied: huggingface-hub<1.0,>=0.23.2 in ./.venv/lib/python3.12/site-packages (from transformers) (0.25.1)\n",
      "Requirement already satisfied: packaging>=20.0 in ./.venv/lib/python3.12/site-packages (from transformers) (24.1)\n",
      "Requirement already satisfied: pyyaml>=5.1 in ./.venv/lib/python3.12/site-packages (from transformers) (6.0.2)\n",
      "Requirement already satisfied: regex!=2019.12.17 in ./.venv/lib/python3.12/site-packages (from transformers) (2024.9.11)\n",
      "Requirement already satisfied: requests in ./.venv/lib/python3.12/site-packages (from transformers) (2.32.3)\n",
      "Requirement already satisfied: safetensors>=0.4.1 in ./.venv/lib/python3.12/site-packages (from transformers) (0.4.5)\n",
      "Requirement already satisfied: tokenizers<0.21,>=0.20 in ./.venv/lib/python3.12/site-packages (from transformers) (0.20.0)\n",
      "Requirement already satisfied: tqdm>=4.27 in ./.venv/lib/python3.12/site-packages (from transformers) (4.66.5)\n",
      "Requirement already satisfied: typing-extensions>=4.8.0 in ./.venv/lib/python3.12/site-packages (from torch) (4.12.2)\n",
      "Requirement already satisfied: sympy in ./.venv/lib/python3.12/site-packages (from torch) (1.13.3)\n",
      "Requirement already satisfied: networkx in ./.venv/lib/python3.12/site-packages (from torch) (3.3)\n",
      "Requirement already satisfied: jinja2 in ./.venv/lib/python3.12/site-packages (from torch) (3.1.4)\n",
      "Requirement already satisfied: fsspec in ./.venv/lib/python3.12/site-packages (from torch) (2024.6.1)\n",
      "Requirement already satisfied: setuptools in ./.venv/lib/python3.12/site-packages (from torch) (75.1.0)\n",
      "Requirement already satisfied: psutil in ./.venv/lib/python3.12/site-packages (from accelerate) (6.0.0)\n",
      "Requirement already satisfied: pyarrow>=15.0.0 in ./.venv/lib/python3.12/site-packages (from datasets) (17.0.0)\n",
      "Requirement already satisfied: dill<0.3.9,>=0.3.0 in ./.venv/lib/python3.12/site-packages (from datasets) (0.3.8)\n",
      "Requirement already satisfied: xxhash in ./.venv/lib/python3.12/site-packages (from datasets) (3.5.0)\n",
      "Requirement already satisfied: multiprocess in ./.venv/lib/python3.12/site-packages (from datasets) (0.70.16)\n",
      "Requirement already satisfied: aiohttp in ./.venv/lib/python3.12/site-packages (from datasets) (3.10.9)\n",
      "Requirement already satisfied: python-dateutil>=2.8.2 in ./.venv/lib/python3.12/site-packages (from pandas) (2.9.0.post0)\n",
      "Requirement already satisfied: pytz>=2020.1 in ./.venv/lib/python3.12/site-packages (from pandas) (2024.2)\n",
      "Requirement already satisfied: tzdata>=2022.7 in ./.venv/lib/python3.12/site-packages (from pandas) (2024.2)\n",
      "Requirement already satisfied: scipy>=1.6.0 in ./.venv/lib/python3.12/site-packages (from scikit-learn) (1.14.1)\n",
      "Requirement already satisfied: joblib>=1.2.0 in ./.venv/lib/python3.12/site-packages (from scikit-learn) (1.4.2)\n",
      "Requirement already satisfied: threadpoolctl>=3.1.0 in ./.venv/lib/python3.12/site-packages (from scikit-learn) (3.5.0)\n",
      "Requirement already satisfied: aiohappyeyeballs>=2.3.0 in ./.venv/lib/python3.12/site-packages (from aiohttp->datasets) (2.4.3)\n",
      "Requirement already satisfied: aiosignal>=1.1.2 in ./.venv/lib/python3.12/site-packages (from aiohttp->datasets) (1.3.1)\n",
      "Requirement already satisfied: attrs>=17.3.0 in ./.venv/lib/python3.12/site-packages (from aiohttp->datasets) (24.2.0)\n",
      "Requirement already satisfied: frozenlist>=1.1.1 in ./.venv/lib/python3.12/site-packages (from aiohttp->datasets) (1.4.1)\n",
      "Requirement already satisfied: multidict<7.0,>=4.5 in ./.venv/lib/python3.12/site-packages (from aiohttp->datasets) (6.1.0)\n",
      "Requirement already satisfied: yarl<2.0,>=1.12.0 in ./.venv/lib/python3.12/site-packages (from aiohttp->datasets) (1.13.1)\n",
      "Requirement already satisfied: six>=1.5 in ./.venv/lib/python3.12/site-packages (from python-dateutil>=2.8.2->pandas) (1.16.0)\n",
      "Requirement already satisfied: charset-normalizer<4,>=2 in ./.venv/lib/python3.12/site-packages (from requests->transformers) (3.3.2)\n",
      "Requirement already satisfied: idna<4,>=2.5 in ./.venv/lib/python3.12/site-packages (from requests->transformers) (3.10)\n",
      "Requirement already satisfied: urllib3<3,>=1.21.1 in ./.venv/lib/python3.12/site-packages (from requests->transformers) (2.2.3)\n",
      "Requirement already satisfied: certifi>=2017.4.17 in ./.venv/lib/python3.12/site-packages (from requests->transformers) (2024.8.30)\n",
      "Requirement already satisfied: MarkupSafe>=2.0 in ./.venv/lib/python3.12/site-packages (from jinja2->torch) (2.1.5)\n",
      "Requirement already satisfied: mpmath<1.4,>=1.1.0 in ./.venv/lib/python3.12/site-packages (from sympy->torch) (1.3.0)\n",
      "\n",
      "\u001b[1m[\u001b[0m\u001b[34;49mnotice\u001b[0m\u001b[1;39;49m]\u001b[0m\u001b[39;49m A new release of pip is available: \u001b[0m\u001b[31;49m23.2.1\u001b[0m\u001b[39;49m -> \u001b[0m\u001b[32;49m24.2\u001b[0m\n",
      "\u001b[1m[\u001b[0m\u001b[34;49mnotice\u001b[0m\u001b[1;39;49m]\u001b[0m\u001b[39;49m To update, run: \u001b[0m\u001b[32;49mpip install --upgrade pip\u001b[0m\n",
      "Note: you may need to restart the kernel to use updated packages.\n"
     ]
    }
   ],
   "source": [
    "%pip install transformers torch accelerate datasets evaluate numpy pandas scikit-learn"
   ]
  },
  {
   "cell_type": "code",
   "execution_count": 11,
   "metadata": {},
   "outputs": [],
   "source": [
    "import os\n",
    "os.environ[\"CUDA_VISIBLE_DEVICES\"]=\"1\""
   ]
  },
  {
   "cell_type": "code",
   "execution_count": 17,
   "metadata": {},
   "outputs": [
    {
     "name": "stdout",
     "output_type": "stream",
     "text": [
      "   number                                              title  assignee  \\\n",
      "0       3                       omnisharp includ linux build   jrieken   \n",
      "1       4                  c# bracket insertion, indent work  alexdima   \n",
      "2       5                          welcome.md packag wrongli   isidorn   \n",
      "3       6  window - omnisharp provid intellisens strong n...   jrieken   \n",
      "4       8                      flash open workspaces, reload   jrieken   \n",
      "\n",
      "                                                body  \n",
      "0  our linux build machin includ csharp-o/**bin**...  \n",
      "1      type (\\n\\nexpect => close )\\nactual => noth\\n  \n",
      "2  vscode > help > show welcom > work\\n\\nif i loo...  \n",
      "3  upgrad rc1 dnx/runtim\\n\\n```bash\\ngit clone ht...  \n",
      "4  start code\\nset dark theme*other than the defa...  \n"
     ]
    },
    {
     "data": {
      "text/html": [
       "<div>\n",
       "<style scoped>\n",
       "    .dataframe tbody tr th:only-of-type {\n",
       "        vertical-align: middle;\n",
       "    }\n",
       "\n",
       "    .dataframe tbody tr th {\n",
       "        vertical-align: top;\n",
       "    }\n",
       "\n",
       "    .dataframe thead th {\n",
       "        text-align: right;\n",
       "    }\n",
       "</style>\n",
       "<table border=\"1\" class=\"dataframe\">\n",
       "  <thead>\n",
       "    <tr style=\"text-align: right;\">\n",
       "      <th></th>\n",
       "      <th>number</th>\n",
       "      <th>title</th>\n",
       "      <th>assignee</th>\n",
       "      <th>body</th>\n",
       "    </tr>\n",
       "  </thead>\n",
       "  <tbody>\n",
       "    <tr>\n",
       "      <th>0</th>\n",
       "      <td>3</td>\n",
       "      <td>omnisharp includ linux build</td>\n",
       "      <td>jrieken</td>\n",
       "      <td>our linux build machin includ csharp-o/**bin**...</td>\n",
       "    </tr>\n",
       "    <tr>\n",
       "      <th>1</th>\n",
       "      <td>4</td>\n",
       "      <td>c# bracket insertion, indent work</td>\n",
       "      <td>alexdima</td>\n",
       "      <td>type (\\n\\nexpect =&gt; close )\\nactual =&gt; noth\\n</td>\n",
       "    </tr>\n",
       "    <tr>\n",
       "      <th>2</th>\n",
       "      <td>5</td>\n",
       "      <td>welcome.md packag wrongli</td>\n",
       "      <td>isidorn</td>\n",
       "      <td>vscode &gt; help &gt; show welcom &gt; work\\n\\nif i loo...</td>\n",
       "    </tr>\n",
       "    <tr>\n",
       "      <th>3</th>\n",
       "      <td>6</td>\n",
       "      <td>window - omnisharp provid intellisens strong n...</td>\n",
       "      <td>jrieken</td>\n",
       "      <td>upgrad rc1 dnx/runtim\\n\\n```bash\\ngit clone ht...</td>\n",
       "    </tr>\n",
       "    <tr>\n",
       "      <th>4</th>\n",
       "      <td>8</td>\n",
       "      <td>flash open workspaces, reload</td>\n",
       "      <td>jrieken</td>\n",
       "      <td>start code\\nset dark theme*other than the defa...</td>\n",
       "    </tr>\n",
       "    <tr>\n",
       "      <th>...</th>\n",
       "      <td>...</td>\n",
       "      <td>...</td>\n",
       "      <td>...</td>\n",
       "      <td>...</td>\n",
       "    </tr>\n",
       "    <tr>\n",
       "      <th>132</th>\n",
       "      <td>196</td>\n",
       "      <td>move gulpfile.* /build/ folder</td>\n",
       "      <td>joaomoreno</td>\n",
       "      <td>would nice we'd less clutter root folder singl...</td>\n",
       "    </tr>\n",
       "    <tr>\n",
       "      <th>133</th>\n",
       "      <td>197</td>\n",
       "      <td>[debug] consol http link match incorrectli</td>\n",
       "      <td>isidorn</td>\n",
       "      <td>vs code show follow output console:\\n\\n\\n\\ngoo...</td>\n",
       "    </tr>\n",
       "    <tr>\n",
       "      <th>134</th>\n",
       "      <td>198</td>\n",
       "      <td>keybind use bracket (eg. indent) work danish k...</td>\n",
       "      <td>alexdima</td>\n",
       "      <td>the reason like enter key layout, use 'option'...</td>\n",
       "    </tr>\n",
       "    <tr>\n",
       "      <th>135</th>\n",
       "      <td>199</td>\n",
       "      <td>instal extension: order extens list</td>\n",
       "      <td>joaomoreno</td>\n",
       "      <td>when tri instal yeoman gener with:\\n`ext insta...</td>\n",
       "    </tr>\n",
       "    <tr>\n",
       "      <th>136</th>\n",
       "      <td>200</td>\n",
       "      <td>abil modifi caret/cursor</td>\n",
       "      <td>alexdima</td>\n",
       "      <td>is anything, expos css someth caret/cursor, mo...</td>\n",
       "    </tr>\n",
       "  </tbody>\n",
       "</table>\n",
       "<p>115 rows × 4 columns</p>\n",
       "</div>"
      ],
      "text/plain": [
       "     number                                              title    assignee  \\\n",
       "0         3                       omnisharp includ linux build     jrieken   \n",
       "1         4                  c# bracket insertion, indent work    alexdima   \n",
       "2         5                          welcome.md packag wrongli     isidorn   \n",
       "3         6  window - omnisharp provid intellisens strong n...     jrieken   \n",
       "4         8                      flash open workspaces, reload     jrieken   \n",
       "..      ...                                                ...         ...   \n",
       "132     196                     move gulpfile.* /build/ folder  joaomoreno   \n",
       "133     197         [debug] consol http link match incorrectli     isidorn   \n",
       "134     198  keybind use bracket (eg. indent) work danish k...    alexdima   \n",
       "135     199                instal extension: order extens list  joaomoreno   \n",
       "136     200                           abil modifi caret/cursor    alexdima   \n",
       "\n",
       "                                                  body  \n",
       "0    our linux build machin includ csharp-o/**bin**...  \n",
       "1        type (\\n\\nexpect => close )\\nactual => noth\\n  \n",
       "2    vscode > help > show welcom > work\\n\\nif i loo...  \n",
       "3    upgrad rc1 dnx/runtim\\n\\n```bash\\ngit clone ht...  \n",
       "4    start code\\nset dark theme*other than the defa...  \n",
       "..                                                 ...  \n",
       "132  would nice we'd less clutter root folder singl...  \n",
       "133  vs code show follow output console:\\n\\n\\n\\ngoo...  \n",
       "134  the reason like enter key layout, use 'option'...  \n",
       "135  when tri instal yeoman gener with:\\n`ext insta...  \n",
       "136  is anything, expos css someth caret/cursor, mo...  \n",
       "\n",
       "[115 rows x 4 columns]"
      ]
     },
     "execution_count": 17,
     "metadata": {},
     "output_type": "execute_result"
    }
   ],
   "source": [
    "import pandas as pd\n",
    "import cleaning_tool as ct\n",
    "\n",
    "# Load your dataset\n",
    "df = pd.read_csv('cleaned_output.csv')\n",
    "df = df.dropna()\n",
    "df = ct.filter_single_users(dataframe=df, min_pull=5)\n",
    "print(df.head())\n",
    "df\n"
   ]
  },
  {
   "cell_type": "code",
   "execution_count": 22,
   "metadata": {},
   "outputs": [],
   "source": [
    "from sklearn.preprocessing import LabelEncoder\n",
    "\n",
    "# Encode the assignee names\n",
    "label_encoder = LabelEncoder()\n",
    "df['assignee_encoded'] = label_encoder.fit_transform(df['assignee'])\n",
    "\n",
    "df['input_text'] = \"<#TITLE-START#> \" + df['title'] + \" <#TITLE-END#> <#BODY-START#> \" + df['body'] + \" <#BODY-END#>\"\n",
    "\n",
    "\n",
    "# Split into input features (titles) and labels (encoded assignees)\n",
    "titles = df['input_text'].tolist()\n",
    "labels = df['assignee_encoded'].tolist()"
   ]
  },
  {
   "cell_type": "code",
   "execution_count": 23,
   "metadata": {},
   "outputs": [
    {
     "data": {
      "text/plain": [
       "['<#TITLE-START#> omnisharp includ linux build <#TITLE-END#> <#BODY-START#> our linux build machin includ csharp-o/**bin**folder.\\n1. run`scripts/npm.sh install`-> csharp-o/**bin**folder nice get creat linux machine.\\n2. run`gulp vscode-linux-x64`also nice creat csharp-o/**bin**folder linux machine.\\n\\nsometh strang build machin\\n <#BODY-END#>',\n",
       " '<#TITLE-START#> c# bracket insertion, indent work <#TITLE-END#> <#BODY-START#> type (\\n\\nexpect => close )\\nactual => noth\\n <#BODY-END#>',\n",
       " '<#TITLE-START#> welcome.md packag wrongli <#TITLE-END#> <#BODY-START#> vscode > help > show welcom > work\\n\\nif i look content vscode packag i see top level resourc folder contain welcome.md. thi look badli place\\n <#BODY-END#>',\n",
       " '<#TITLE-START#> window - omnisharp provid intellisens strong name assembl <#TITLE-END#> <#BODY-START#> upgrad rc1 dnx/runtim\\n\\n```bash\\ngit clone https://github.com/natemcmaster/test-vscode-strong-name\\ncd test-vscode-strong-name\\ndnu restore\\ncode .\\n```\\n\\npick test project.json\\n\\nresult => \"intern class internalclass accessible...\" error.\\n\\nwork osx\\n <#BODY-END#>',\n",
       " '<#TITLE-START#> flash open workspaces, reload <#TITLE-END#> <#BODY-START#> start code\\nset dark theme*other than the default dark theme*alreadi run dark theme\\nfile | open folder -> pick folder\\nfile | open folder -> pick folder\\n\\nresult: see delay/flash open workspaces.\\n <#BODY-END#>',\n",
       " '<#TITLE-START#> extens development: null undefin valu print debug repl <#TITLE-END#> <#BODY-START#> when use console.log() null undefin valu extension, output show debug repl make hard understand go time.\\n <#BODY-END#>',\n",
       " \"<#TITLE-START#> cannot find modul 'sinon' run test/run.sh termin <#TITLE-END#> <#BODY-START#> open termin\\ncd vscode/test\\n./run.sh\\n\\nresult:\\n\\ndetail: { [error: cannot find modul 'sinon'] code: 'module_not_found' }\\n <#BODY-END#>\",\n",
       " '<#TITLE-START#> [clojure] block comment color differ <#TITLE-END#> <#BODY-START#> have clojur file toggl block comment somewhere. the code block comment color comment all.\\n <#BODY-END#>',\n",
       " '<#TITLE-START#> bad color kimbi dark theme languag <#TITLE-END#> <#BODY-START#> when use kimbi dark c#, comment sourcecod color:\\n\\n\\n <#BODY-END#>',\n",
       " '<#TITLE-START#> c#: line/block comment work <#TITLE-END#> <#BODY-START#> i cannot set line block comment c# file anymore.\\n <#BODY-END#>',\n",
       " '<#TITLE-START#> css: toggl line comment preserv <#TITLE-END#> <#BODY-START#> have css block like this:\\n\\n```css\\n.monaco-workbench > .part > .status {\\n    display: none; /* Parts have to opt in to show title area */\\n}\\n```\\n\\nput cursor bodi declar toggl line comment twice, end this:\\n\\n```css\\n.monaco-workbench > .part > .status {\\n    /*display: none;  Parts have to opt in to show title area */\\n}\\n```\\n <#BODY-END#>',\n",
       " \"<#TITLE-START#> [f#] block comment color comment <#TITLE-END#> <#BODY-START#> use block comment f# add follow around 'sampleslabel':\\n\\n```F#\\nlet mutable (*samplesLabel*) : System.Windows.Forms.Label = null\\n```\\n\\nthi howev color comment vs code.\\n <#BODY-END#>\",\n",
       " '<#TITLE-START#> html: not auto-clos quot type attribut <#TITLE-END#> <#BODY-START#> i would assum type open quot attribut put close quot automatically, current happening.\\n <#BODY-END#>',\n",
       " '<#TITLE-START#> python: block comment three singl quot two <#TITLE-END#> <#BODY-START#> when use block comment feature, 2 singl quot put in, instead three.\\n <#BODY-END#>',\n",
       " '<#TITLE-START#> php: extens console.log complet function <#TITLE-END#> <#BODY-START#> complet function find someth log:\\n\\n[plugin host] providesignaturehelp\\nworkbench.main.js:1675 [plugin host] object {signatures: array[1], activesignature: 0, activeparameter: 0}\\n <#BODY-END#>',\n",
       " '<#TITLE-START#> [ruby] mode fail token input <#TITLE-END#> <#BODY-START#> take rubi file https://github.com/homebrew/homebrew/blob/master/library/homebrew/os/mac/xcode.rb past vs code, get exception: mode fail token input\\n <#BODY-END#>',\n",
       " '<#TITLE-START#> [vb] block comment color <#TITLE-END#> <#BODY-START#> while line comment nice colored, block comment not.\\n <#BODY-END#>',\n",
       " '<#TITLE-START#> develop environ improv (code.bat/code.sh) <#TITLE-END#> <#BODY-START#> there work remain make develop environ nicer.\\n- [x] do creat electron-build folder outsid sourc repositori\\n- [x] warn user node_modul miss npm instal requir\\n- [x] warn user run npm instal scripts/npm\\n- [x] warn user folder miss gulp watch requir\\n <#BODY-END#>',\n",
       " '<#TITLE-START#> [xml] element attribut light dark theme use color <#TITLE-END#> <#BODY-START#> \\n <#BODY-END#>',\n",
       " '<#TITLE-START#> no blue icon linux <#TITLE-END#> <#BODY-START#> i see blue icon 0.9 builds, 0.10.1 builds.\\nonli gener tool icon shown.\\n <#BODY-END#>',\n",
       " \"<#TITLE-START#> variabl local window stop stop updat valu step code quickli <#TITLE-END#> <#BODY-START#> in node express app i follow loop:\\n\\nvar msg = 'hello world';\\nvar = 0;\\n(i < 100) {\\nmsg = msg + i.tostring();\\ni++;\\n}\\n\\ni set local watch window debugg i see msg variabl both.\\n\\nwhen step loop, i press f10 quickly, eventu msg variabl local window stop updating. see screenshot\\n\\n\\nwhen step quickly, i sometim see messag watch window say 'except process request'\\n\\nthi 0.10.0\\n <#BODY-END#>\",\n",
       " '<#TITLE-START#> extens uninstal leav empti directori behind <#TITLE-END#> <#BODY-START#> i instal eslint jshint uninstal again. i still two directori ~/.vscode/extens dbaeumer.jshint dbaeumer.eslint package.json. on next start vscode complain miss package.json files. i need delet folder manual\\n <#BODY-END#>',\n",
       " '<#TITLE-START#> program appear continu execut press stop debugg <#TITLE-END#> <#BODY-START#> in simpl node app, i step loop debugger. befor exit loop, i press stop button\\n\\ni expect program stop execut right point appear continu execut due fact console.log statement execut (highlight below) valu string output look like loop continu execut even press stop:\\n\\n <#BODY-END#>',\n",
       " \"<#TITLE-START#> build errors: vscode.d.t found <#TITLE-END#> <#BODY-START#> run build i see +400 errors, relat vscode.d.ts.\\n\\n```\\n*** Error: vscode/src/vs/workbench/api/common/pluginHostTypes.ts(434,19): Cannot find namespace 'vscode'.\\n*** Error: vscode/src/vs/workbench/api/common/pluginHostTypes.ts(437,24): Cannot find namespace 'vscode'.\\n*** Error: vscode/src/vs/workbench/api/common/pluginHostTypes.ts(437,46): Cannot find namespace 'vscode'.\\n\\n....\\n\\n*** Error: vscode/extensions/declares.d.ts(59,51): Cannot find name 'Thenable'.\\n*** Error: vscode/extensions/vscode-api-tests/src/window.test.ts(9,33): Cannot find module 'vscode'.\\n*** Finished with 408 errors.\\n```\\n\\n...\\n <#BODY-END#>\",\n",
       " '<#TITLE-START#> javascript - regular express color - javascript mode instanti twice <#TITLE-END#> <#BODY-START#> new**javascript**file, use follow code snippet:\\n\\n`var booleanRegex = /^true|false$/i;`\\n`var stringRegex = /^([\\'\"]).*\\\\1$/;`\\n\\nnotic regex valu**does not get colored**.\\nregex color work typescript.\\n <#BODY-END#>',\n",
       " '<#TITLE-START#> [git] weird indic renam file <#TITLE-END#> <#BODY-START#> (i mac os x, git 2.4.0)\\n- check readme.md content\\n- take content file move new file contributing.md\\n- chang text readme.md someth els\\n- stage\\n\\n\\n <#BODY-END#>',\n",
       " '<#TITLE-START#> vscode \"--extensionhomepath\" option work use vscode proxi <#TITLE-END#> <#BODY-START#> i\\'m develop extens want test instal gallery. after instal gallery, i want continu develop vscode extens host. when launch extens f5, i see annoy extens overrid warn extens host window.\\nto prevent ~/.vscode/extens path use case, i tri use \" --extensionhomepath\" extensionhost launch config specifi empti directory.\\nbut seem \"--extensionhomepath\" honour case (probabl vscode proxi connect alreadi run vscode).\\n\\nbtw, would cool \"--extensionhomepath\" would allow empti path.\\n <#BODY-END#>',\n",
       " '<#TITLE-START#> activetexteditor correct extens activ <#TITLE-END#> <#BODY-START#> - creat follow extens (exampl doc)\\n- run extension. in workspac creat md file, open check get counter statu bar\\n- reload workspac md file open. observ md file opens, counter shown\\n\\nthe extens activ \"onlanguage:markdown\".\\nwhen starts, print current activ mode: vs.editor.modes.nullmod\\nit regist activ editor chang event, get event tell markdown file opened.\\n\\n```typescript\\nimport {window, commands, Disposable, ExtensionContext, StatusBarAlignment, StatusBarItem, TextDocument} from \\'vscode\\';\\n\\n// This method is called when your extension is activated. Activation is\\n// controlled by the activation events defined in package.json.\\nexport function activate(context: ExtensionContext) {\\n\\n    // Use the console to output diagnostic information (console.log) and errors (console.error).\\n    // This line of code will only be executed once when your extension is activated.\\n    console.log(\\'Congratulations, your extension \"WordCount\" is now active!\\');\\n\\n    // create a new word counter\\n    let wordCounter = new WordCounter();\\n    let controller = new WordCounterController(wordCounter);\\n\\n    // Add to a list of disposables which are disposed when this extension is deactivated.\\n    context.subscriptions.push(controller);\\n    context.subscriptions.push(wordCounter);\\n}\\n\\nclass WordCounter {\\n\\n    private _statusBarItem: StatusBarItem;\\n\\n    public updateWordCount() {\\n\\n        // Create as needed \\n        if (!this._statusBarItem) { \\n            this._statusBarItem = window.createStatusBarItem(StatusBarAlignment.Left); \\n        }  \\n\\n        // Get the current text editor \\n        let editor = window.activeTextEditor; \\n        if (!editor) { \\n            this._statusBarItem.hide(); \\n            return; \\n        } \\n\\n         let doc = editor.document; \\n\\n        console.log(\\'Current doc language \\' + doc.languageId);\\n\\n        // Only update status if an MarkDown file \\n        if (doc.languageId === \"markdown\") { \\n            let wordCount = this._getWordCount(doc); \\n\\n            // Update the status bar \\n            this._statusBarItem.text = wordCount !== 1 ? `${wordCount} Words` : \\'1 Word\\'; \\n            this._statusBarItem.show(); \\n        } else { \\n            this._statusBarItem.hide(); \\n        } \\n    } \\n\\n    public _getWordCount(doc: TextDocument): number { \\n\\n        let docContent = doc.getText(); \\n\\n        // Parse out unwanted whitespace so the split is accurate \\n        docContent = docContent.replace(/(< ([^>]+)<)/g, \\'\\').replace(/\\\\s+/g, \\' \\'); \\n        docContent = docContent.replace(/^\\\\s\\\\s*/, \\'\\').replace(/\\\\s\\\\s*$/, \\'\\'); \\n        let wordCount = 0; \\n        if (docContent != \"\") { \\n            wordCount = docContent.split(\" \").length; \\n        } \\n\\n        return wordCount; \\n    } \\n\\n    dispose() {\\n        this._statusBarItem.dispose();\\n    }\\n}\\n\\nclass WordCounterController {\\n\\n    private _wordCounter: WordCounter;\\n    private _disposable: Disposable;\\n\\n    constructor(wordCounter: WordCounter) {\\n        this._wordCounter = wordCounter;\\n        this._wordCounter.updateWordCount();\\n\\n        // subscribe to selection change and editor activation events\\n        let subscriptions: Disposable[] = [];\\n        window.onDidChangeActiveTextEditor(this._onEvent, this, subscriptions);\\n\\n        // update the counter for the current file\\n        this._wordCounter.updateWordCount();        \\n\\n        // create a combined disposable from both event subscriptions\\n        this._disposable = Disposable.from(...subscriptions);\\n    }\\n\\n    dispose() {\\n        this._disposable.dispose();\\n    }\\n\\n    private _onEvent() {\\n        console.log(\\'active editor changed \\');\\n        this._wordCounter.updateWordCount();\\n    }\\n}\\n```\\n\\n```json\\n{\\n    \"name\": \"WordCount\",\\n    \"description\": \"Count the words\",\\n    \"version\": \"0.0.1\",\\n    \"engines\": {\\n        \"vscode\": \"^0.10.1\"\\n    },\\n    \"categories\": [\\n        \"Other\"\\n    ],\\n    \"activationEvents\": [\\n        \"onLanguage:markdown\"\\n    ],\\n    \"main\": \"./out/src/extension\",\\n    \"scripts\": {\\n        \"vscode:prepublish\": \"node ./node_modules/vscode/bin/compile\",\\n        \"compile\": \"node ./node_modules/vscode/bin/compile -watch -p ./\"\\n    },\\n    \"devDependencies\": {\\n        \"typescript\": \"^1.6.2\",\\n        \"vscode\": \"0.10.x\"\\n    }\\n}\\n```\\n <#BODY-END#>',\n",
       " \"<#TITLE-START#> broken select feedback select bold text markdown file <#TITLE-END#> <#BODY-START#> - open markdown file bold markup, e.g.\\nabc**text**xyz\\n- tri select line mous start 'abc' slowli extend 'xyz'\\nobserve: reach second '**', select '**text**' disappears. in end two disconnect select ranges.\\n- addit i see lot flash select chang drag mous\\n <#BODY-END#>\",\n",
       " \"<#TITLE-START#> updat vscode extens package.json schema <#TITLE-END#> <#BODY-START#> remov 'updatechannels'\\n <#BODY-END#>\",\n",
       " \"<#TITLE-START#> document symbol duplic <#TITLE-END#> <#BODY-START#> when ad 2nd document symbol provider, let' say typescript, entri duplicated. when ad 3rd, triplicated, etc...\\n <#BODY-END#>\",\n",
       " '<#TITLE-START#> comment use ctrl+k,ctrl+c work jsx file <#TITLE-END#> <#BODY-START#> block comment use ctrl+k,ctrl+c work javascript react jsx files.\\n <#BODY-END#>',\n",
       " \"<#TITLE-START#> run code open new instance, activ current open one <#TITLE-END#> <#BODY-START#> ubuntu 12.04, vscode 0.10.1\\n\\ncurrent run`Code`instanc alreadi run (or shift click app icon windows/ubuntu) activ current open window. thi open new instance, goe open new instanc`Code`folder argument instanc alreadi open.\\n\\nit' common use case mani develop multipl editor folder open.\\n\\n**Repro:**\\n1. `Code`(open instanc vscode)\\n2. `Code`\\n\\n**Expected:**\\na new instanc vscode open\\n\\n**Actual:**\\nthe current instanc vscode activ\\n <#BODY-END#>\",\n",
       " \"<#TITLE-START#> fix add select add select hotkey ubuntu <#TITLE-END#> <#BODY-START#> i'm use`alt+shift+up``alt+shift+down`expand select current anchor, far i see implement core extension.\\n\\nedit: thi actual implement work fine, hotkey ctrl+alt+up/down conflict ubuntu os hotkey chang workspace.\\n <#BODY-END#>\",\n",
       " '<#TITLE-START#> interpol string colour <#TITLE-END#> <#BODY-START#> after update, interpol string plain`.js`file get highlight anymore. previou behaviour highlight plain text,`$`symbol interpol braces. now everyth*``*colour all.\\n\\n```\\nfunction sayHello(customer)\\n{\\n    console.log(`Hello ${customer}`);\\n}\\n```\\n\\n\\n <#BODY-END#>',\n",
       " \"<#TITLE-START#> it possibl includ path search go file dialog <#TITLE-END#> <#BODY-START#> **Repro:**\\n1. `mkdir -p foo/bar`\\n2. `echo 'test' > foo/bar/test`\\n3. `Code .`\\n4. `Ctrl+P`open go file\\n5. type`foo/bar/test`\\n\\n**Expected:**\\nthe test file best match\\n\\n**Actual:**\\nno match found\\n <#BODY-END#>\",\n",
       " '<#TITLE-START#> es6 jsconfig.json error <#TITLE-END#> <#BODY-START#> i incorrectli get follow error,**\"This can only be used with ES6. Make sure to have a jsconfig.json-file which sets the target to ES6\"**.\\n\\nfurthermore, i think i may stumbl upon weird case start file name \"temp\" \"temp.js\", \"temporary.js\", \"temp123.js\" caus error.\\n\\nto reproduce:\\ncreat file call temp.j es6 code, as:\\n\\n```\\nlet x = 10\\n```\\n\\nthe error showing. to fix it, creat jsconfig.json file set target es6:\\n\\n```\\n{\\n    \"compilerOptions\": {\\n        \"target\": \"ES6\"\\n    }\\n}\\n```\\n\\nthe error still showing, incorrectly.\\n\\nif i renam \"temp.js\" \"test.js\" (or anyth start \\'temp\\') error goe away. or, i creat file array jsconfig.json list \"temp.js\", error goe away:\\n\\n```\\n{\\n    \"compilerOptions\": {\\n        \"target\": \"ES6\"\\n    },\\n    \"files\": [\\n        \"temp.js\"\\n    ]\\n}\\n```\\n\\ni want everi file project.\\n\\ni\\'m run window 7, 64-bit.\\n\\nthank\\n <#BODY-END#>',\n",
       " \"<#TITLE-START#> middl click work file work file list close remov work file <#TITLE-END#> <#BODY-START#> ubuntu 12.04, vscode 0.10.1\\n\\nseem like easier/intuit shortcut instead tri hit tini`x`button' hitbox.\\n\\n**Repro:**\\n1. open vscode\\n2. open folder\\n3. open edit file\\n4. middl click file work file\\n\\n**Expected:**\\nthe file close remov work file (with sure/sav dialog)\\n\\n**Actual:**\\nnoth\\n <#BODY-END#>\",\n",
       " '<#TITLE-START#> git integr work open folder sub-fold git repositori <#TITLE-END#> <#BODY-START#> ubuntu 12.04, vscode 0.10.1\\n\\nthe main reason i want get around slow go file index https://github.com/microsoft/vscode/issues/55 open sub-directori chromium index take long. travers file path upward root directori fairli quick perform action.\\n\\n**Repro:**\\n1. `mkdir -p foo/bar`\\n2. `cd foo`\\n3. `git init`\\n4. `Code bar`\\n5. open git integr tab\\n\\n**Expected:**\\ngit integr realis`bar`part repo\\n\\n**Actual:**\\ngit integr disabl\\n <#BODY-END#>',\n",
       " '<#TITLE-START#> cannot attach debugg node.j applic run insid docker contain <#TITLE-END#> <#BODY-START#> i\\'m tri attach visual studio code debugg node.j app run insid docker container.\\n\\nthe app start like:\\n\\n```sh\\nnode --debug-brk app.js\\n```\\n\\nmy`docker-compose.yml`expos port attaching:\\n\\n```yml\\napp:\\n  build: .\\n  working_dir: /code\\n  volumes:\\n    - .:/code\\n  command: npm run debug\\n  ports:\\n    - \"3004:3000\"\\n    - \"5858:5858\"\\n```\\n\\n`launch.json`pretti simple:\\n\\n```json\\n{\\n    \"version\": \"0.2.0\",\\n    \"configurations\": [\\n        {\\n            \"name\": \"Docker\",\\n            \"type\": \"node\",\\n            \"request\": \"attach\",\\n            \"port\": 5858\\n        }\\n    ]\\n}\\n```\\n\\nnow, i start applic attach debugg correctli connect (i see valu flash debugg ui already), stop, tell following:\\n\\n> Error opening \\'app.js\\' (File not found: /code/app.js).\\n\\nis way fix path offset? should one handl scenario complet different?\\n <#BODY-END#>',\n",
       " '<#TITLE-START#> file search got stuck great number file <#TITLE-END#> <#BODY-START#> file search (ctrl + e) got stuck great number file (around 60k file 5k folders) search file name. it took long find file sometim search bar suddenli disappeared.\\n <#BODY-END#>',\n",
       " '<#TITLE-START#> round select seem broken due current word highlight <#TITLE-END#> <#BODY-START#> editor.roundedselect broken\\n- if select span multipl lines, select still squared.\\n\\n\\n\\n <#BODY-END#>',\n",
       " '<#TITLE-START#> git conflict highlight get mess easili <#TITLE-END#> <#BODY-START#> ubuntu 12.04, vscode 0.10.1\\n\\ndelet undo line doubl highlight: (stay close reopen file)\\n\\n\\n\\ndelet end line`=======`end line start`>>>>>>>`:\\n\\n\\n\\nundo result this:\\n\\n\\n <#BODY-END#>',\n",
       " \"<#TITLE-START#> proxi support extens galleri <#TITLE-END#> <#BODY-START#> whenev i tri instal extension, use*ext install*, i get**connect ETIMEDOUT 191.238.172.191:443**error.\\n\\ntri navig**https://191.238.172.191**browser produc warn regard certif valid ***.market.visualstudio.com**, i'm allow proceed.\\n\\nshouldn't vscode tri connect name instead ip?\\n\\ni'm behind proxy, vscode updat fine behind it, also list avail extensions. the firewal log invalid certif allow connect proceed. doesn't look like problem end...\\n\\n**OS:**window 7\\n**VSCode:**0.10.1\\n <#BODY-END#>\",\n",
       " '<#TITLE-START#> [xml] provid formatt <#TITLE-END#> <#BODY-START#> updat i could use alt+shift+f code format xml file. after updat longer work (use window version 0.10.1)\\n <#BODY-END#>',\n",
       " '<#TITLE-START#> allow overrid hardcod jsconfig/tsconfig default <#TITLE-END#> <#BODY-START#> i\\'m write pretti much project use es6.\\nso i want use code, i need add`jsconfig.json`file contain follow snippet everi project i work on:\\n\\n```\\n{\\n  \"compilerOptions\": {\\n    \"target\": \"es6\"\\n  }\\n}\\n```\\n\\ndo annoy say least.\\n\\ni quick look code i\\'d grasp current default hardcoded.\\ncan instead global default`jsonfig.json`user folder (e.g. next user config) overrid hardcod default present?\\nor perhap part user config allow overrid valu (e.g.`javascript.compilerOptions.target`)?\\n <#BODY-END#>',\n",
       " '<#TITLE-START#> allow theme ui compon workbench <#TITLE-END#> <#BODY-START#> current i cannot chang style editor \"frame\", example, sidebar color, pad font. thi make theme (like solarized) look inconsist editor ui.\\n <#BODY-END#>',\n",
       " '<#TITLE-START#> get \"visual studio code crashed\" time <#TITLE-END#> <#BODY-START#> the last three days, i come work, i get dialog. is error log crash dump i attach help diagnose?\\n <#BODY-END#>',\n",
       " '<#TITLE-START#> window setup file version <#TITLE-END#> <#BODY-START#> window setup file version hover cursor 0.0.0.0 shown. pleas set setup file version\\n <#BODY-END#>',\n",
       " '<#TITLE-START#> react file .j extens javascript react languag work well <#TITLE-END#> <#BODY-START#> # error\\n\\n\\n\\n# .j file error\\n\\n\\n# .jsx file without error\\n\\n\\n <#BODY-END#>',\n",
       " '<#TITLE-START#> add mous gestur multi-cursor <#TITLE-END#> <#BODY-START#> pleas implement column mode selection/editing.\\n\\nprevious request\\nhttps://visualstudio.uservoice.com/forums/293070-visual-studio-code/suggestions/7761618-implement-column-mode-selection-edit\\n\\non mac prefer shortcut cmd+option(alt) like sublim text does.\\n <#BODY-END#>',\n",
       " '<#TITLE-START#> php autocompletion: $_get complet $$_get <#TITLE-END#> <#BODY-START#> when use autocomplet variabl place 2 dollar sign instead 1. for exampl type $_get transform $$_get. fail everi complet start $.\\n <#BODY-END#>',\n",
       " '<#TITLE-START#> node error import say export file use module.export <#TITLE-END#> <#BODY-START#> test node project, say error`Imports`, even though fact`export`ing something.\\n\\n\\n\\n\\n <#BODY-END#>',\n",
       " \"<#TITLE-START#> consol difficult work small screen <#TITLE-END#> <#BODY-START#> while work laptop, i found difficult use debug console. for example, consid screen:\\n\\n\\n\\ni abl adjust side code right, hide files:\\n\\n\\n\\nbut note*still*text i can't see bleed right hand side.\\n\\nis way wordwrap?\\n <#BODY-END#>\",\n",
       " '<#TITLE-START#> document languag type <#TITLE-END#> <#BODY-START#> on page, https://code.visualstudio.com/docs/extensionapi/activation-events, specifically: activationevents.onlanguag\\n\\nhow one determin string valid onlanguage? for example, css file, would i use:\\n\\ncss\\ncss\\nstylesheet\\n\\netc?\\n <#BODY-END#>',\n",
       " '<#TITLE-START#> incorrect breakpoint bind use sourc map <#TITLE-END#> <#BODY-START#> i’m see issu vs code debug typescript file sourc map use typescript async functions. when i set breakpoint first line function body, breakpoint move first execut line follow end function body. i’m tri determin issu typescript’ sourcemap output, vs code, version v8 use vs code. i’v test scenario chrome canari breakpoint seem bind correctly, lead believ issu may typescript.\\n\\nafter discussion, look like issu`node-debug`extension. chang default`Bias.GREATEST_LOWER_BOUND``Bias.LEAST_UPPER_BOUND`seem solv problem.\\n\\ncc: @weinand\\n <#BODY-END#>',\n",
       " \"<#TITLE-START#> unabl launch applic osx <#TITLE-END#> <#BODY-START#> when fresh download, copi`Visual Studio Code.app``/Applications`, execut i receiv error:`The application “Visual Studio Code.app” can’t be opened.`\\n\\nupon look consol log i see follow errors:\\n\\n```\\n11/18/15 11:44:47.046 lsd[371]: LaunchServices: Could not store lsd-identifiers file at /private/var/db/lsd/com.apple.lsdschemes.plist\\n11/18/15 11:44:47.049 lsd[371]: LaunchServices: Could not store lsd-identifiers file at /private/var/db/lsd/com.apple.lsdschemes.plist\\n11/18/15 11:44:47.058 com.apple.xpc.launchd[1]: (com.apple.xpc.launchd.oneshot.0x10000046.Atom[62821]) Could not find and/or execute program specified by service: 2: No such file or directory: /Applications/Visual Studio Code.app/Contents/MacOS/Atom\\n11/18/15 11:44:47.058 Finder[749]: spawn_via_launchd() failed, errno=111 label=[0x0-0x11dc1db].com.github.atom-shell path=/Applications/Visual Studio Code.app/Contents/MacOS/Atom flags=1 : LaunchApplicationClient.cp #963 LaunchApplicationWithSpawnViaLaunchD() q=com.apple.root.default-qos\\n11/18/15 11:44:47.058 Finder[749]: spawn_via_launchd() failed, errno=111 label=[0x0-0x11dc1db].com.github.atom-shell path=/Applications/Visual Studio Code.app/Contents/MacOS/Atom flags=1\\n11/18/15 11:44:47.061 lsd[371]: LaunchServices: Could not store lsd-identifiers file at /private/var/db/lsd/com.apple.lsdschemes.plist\\n```\\n\\nit appear app look`/Applications/Visual Studio Code.app/Contents/MacOS/Atom`correct path`/Applications/Visual Studio Code.app/Contents/MacOS/Electron`\\n\\ni'm attempt upgrad origin beta, someth els need remov properli make transit besid delet old app`/Applications`?\\n <#BODY-END#>\",\n",
       " '<#TITLE-START#> vscode slooow open minifi css file <#TITLE-END#> <#BODY-START#> mac os x el capitan, 10.11.1,\\nvscode 0.10.1\\ncss file size: 116,198 byte (119 kb disk)\\n\\nthe attach file built minifi part grunt task build distribut file website. tri open file sever time make sure file issue. the app eventu show dialog say \"visual studio longer responding\"\\n\\nwhen i reopen vscode crash, folder forgotten, open differ folder. when \"current\" folder updat exist folder?\\n\\ni ad .txt extens order add here. the file extens origin .css\\n\\n\\n <#BODY-END#>',\n",
       " '<#TITLE-START#> es6 support work <#TITLE-END#> <#BODY-START#> when i open file es6 javascript project, everi singl line underlin red, error like:\\n\\n\\n\\nin project\\' root, i`jsconfig.json`file follow contents:\\n\\n```\\n{\\n    \"compilerOptions\": {\\n        \"target\": \"ES6\",\\n        \"module\": \"commonjs\"\\n    },\\n    \"files\": [\\n        \"app/\"\\n    ]\\n}\\n```\\n\\nthe file question live insid`app`folder.\\n <#BODY-END#>',\n",
       " '<#TITLE-START#> support user-wid instal <#TITLE-END#> <#BODY-START#> i run standard user account machine, instal requir administr rights, mean run context differ (administrator) user account. after choos \"add path\" option, instal add`;C:\\\\Program Files (x86)\\\\Microsoft VS Code\\\\bin`user path variabl admin account instead, make unavail me.\\n\\ni guess instal add machin path instead? it would also great instal could run standard user instead, instal vscode`%LOCALAPPDATA%\\\\Programs`, give option whether instal user current user.\\n <#BODY-END#>',\n",
       " '<#TITLE-START#> environ variabl defin debug <#TITLE-END#> <#BODY-START#> i use vs code start debug session configur i defin valu port yet alway undefined. i cannot seem access environ variables. is anoth way access environ variables?\\n\\n`var port = process.env.PORT || 8001;`\\n\\nbelow launch.json i use sampl project tri access environ variables. i\\'d like abl use launch configur creat multipl configur differ environ variables.\\n\\n```\\n{\\n    \"version\": \"0.1.0\",\\n    // List of configurations. Add new configurations or edit existing ones.\\n    \"configurations\": [\\n        {\\n            // Name of configuration; appears in the launch configuration drop down menu.\\n            \"name\": \"Launch server.js\",\\n            // Type of configuration.\\n            \"type\": \"node\",\\n            // Workspace relative or absolute path to the program.\\n            \"program\": \"server.js\",\\n            // Automatically stop program after launch.\\n            \"stopOnEntry\": false,\\n            // Command line arguments passed to the program.\\n            \"args\": [],\\n            // Workspace relative or absolute path to the working directory of the program being debugged. Default is the current workspace.\\n            \"cwd\": \".\",\\n            // Workspace relative or absolute path to the runtime executable to be used. Default is the runtime executable on the PATH.\\n            \"runtimeExecutable\": null,\\n            // Optional arguments passed to the runtime executable.\\n            \"runtimeArgs\": [\"--nolazy\"],\\n            // Environment variables passed to the program.\\n            \"env\": {\\n                \"NODE_ENV\": \"development\",\\n                \"PORT\" : 8005\\n            },\\n            // Use JavaScript source maps (if they exist).\\n            \"sourceMaps\": false,\\n            // If JavaScript source maps are enabled, the generated code is expected in this directory.\\n            \"outDir\": null\\n        },\\n        {\\n            \"name\": \"Attach\",\\n            \"type\": \"node\",\\n            // TCP/IP address. Default is \"localhost\".\\n            \"address\": \"localhost\",\\n            // Port to attach to.\\n            \"port\": 5858,\\n            \"sourceMaps\": false\\n        }\\n    ]\\n}\\n```\\n <#BODY-END#>',\n",
       " '<#TITLE-START#> tab updat column counter <#TITLE-END#> <#BODY-START#> repro:\\n1. hit tab key\\n2. column count gutter updat\\n\\n\\n\\nforgiv gif quality.\\n <#BODY-END#>',\n",
       " '<#TITLE-START#> enabl code fold collaps <#TITLE-END#> <#BODY-START#> i search couldnt find issues. id love abl collaps section code. ani thoughts?\\n <#BODY-END#>',\n",
       " \"<#TITLE-START#> vmw workstation: vs code hit 97% cpu start coupl minut <#TITLE-END#> <#BODY-START#> i'm vmw workstat 11.1.3 8gb/singl core/win764bit i start code.ex start menu, jump 97% cpu take coupl minut start. i'm open folder code anyth commandline, plain vanilla start menu. i also notic i sometim speed starti[ start 4 6 instanc (each click start menu seem start 2 instanc taskmanager, desktop) ide kick in, i'm left instanc i shut ide instanc close.\\n\\ni'v seen behavior vm i'v creat work home (not vm two differ computers).\\n <#BODY-END#>\",\n",
       " '<#TITLE-START#> middl click past work linux <#TITLE-END#> <#BODY-START#> on linux, whenev select text, text automat place onto separ x11 clipboard call primary. thi past anywher middl clicking.\\n\\nthi work (pretti much) everywher - includ electron app like atom - work visual studio code, sadly.\\n\\nvscode version:\\n\\nversion 0.10.1\\ncommit df352367df2efcfa9d602d471e4e2f42140a0f05\\ndate 2015-11-17t15:21:23.766z\\nshell 0.34.1\\nrender 45.0.2454.85\\nnode 4.1.1\\n\\nlinux version:\\n\\nubuntu 13.10\\n <#BODY-END#>',\n",
       " '<#TITLE-START#> debug console: copi multipl line <#TITLE-END#> <#BODY-START#> enabl copi multipl line (e.g. highlight lines) debug console.\\n\\nrepro:\\n1. select sever line debug consol\\n2. right click->copi\\n3. onli one line copied.\\n <#BODY-END#>',\n",
       " \"<#TITLE-START#> [stylus] add stylu languag support <#TITLE-END#> <#BODY-START#> i would like full stylu languag support, alreadi sass less.\\n\\ncolor alreadi avail`tmLanguage`, full intellisens support, errors, warn etc.\\n\\ni'v alreadi taken look way sass built, would like improv vscode core, i contribut pr.\\n\\nif way extens (but use power monarch etc), i'll glad give guidelin i achiev that.\\n\\nthank advance.\\n <#BODY-END#>\",\n",
       " '<#TITLE-START#> keybinding: allow colon valid keybind <#TITLE-END#> <#BODY-START#> work. a core key bind vim`:`.\\n\\nthe workaround:\\n\\n```\\n     {\\n        \"key\": \"Shift+;\",\\n        \"command\": \"extension.vimMode_colon\",\\n        \"when\": \"editorTextFocus\"\\n      },\\n```\\n\\nwork intern keyboards.\\n <#BODY-END#>',\n",
       " '<#TITLE-START#> odd code vscode/src/vs/editor/common/modes/linestream.t <#TITLE-END#> <#BODY-START#> ```\\nprivate actualStringToArray(str:string):boolean[] {\\n    var maxCharCode = 0;\\n    for (var i = 0; i < str.length; i++) {\\n        maxCharCode = str.charCodeAt(i);\\n    }\\n    var r = [];\\n    for (i = 0; i < maxCharCode; i++) {\\n        r[i] = false;\\n    }\\n    for (i = 0; i < str.length; i++) {\\n        r[str.charCodeAt(i)] = true;\\n    }\\n    return r;\\n}\\n```\\n\\nfirst loop suppos find largest char code? moment return last charact str.\\n <#BODY-END#>',\n",
       " '<#TITLE-START#> asp.net 5 rc1 applic show unresolv item <#TITLE-END#> <#BODY-START#> same applic atom fine. applic run without issue. applic creat use\\n\\n`yo aspnet`, basic web applic auth. ran`dnu restore`\\n\\ncode - version 0.10.1 (0.10.1)\\n\\n\\n\\n@chrisdia\\n <#BODY-END#>',\n",
       " \"<#TITLE-START#> regression: editor text blurri linux 125% text scale <#TITLE-END#> <#BODY-START#> use arch linux gnome/gtk+ 3.18.\\n\\nin version 0.9.2 below, vs code ignor text scale factor gnome 3 render ui text 100% scale instead 125% i set. (the text scale factor set gnome-tweak-tool.) to compensate, i set editor text size 17, work fine.\\n\\nas 0.10.1, vs code seem respect text scale factor. however, editor text notic blurry. chang editor text size font help. the ui text, hand, seem render correctly.\\n\\ni'v upload comparison here: http://imgur.com/a/nplup\\ni recommend view 1:1 scale see differ clearly.\\n <#BODY-END#>\",\n",
       " \"<#TITLE-START#> improv explor view match full vs design <#TITLE-END#> <#BODY-START#> hello,\\n\\ni use vs code daili work home sinc first preview releas i love it.\\n\\ni major concern though way differ file shown 'work folder' view : they'r format same, plain way, actual quit hard distinguish look (especi folder vs files). in previou release, i recal folder name bold. it better nonetheless enough.\\n\\ni think imag describ pretti well i suggest:\\n\\nthe solut open code full vs, obvious latter work way better icon vari font weight.\\n\\nwould possibl achiev similar look code ? i know reus full vs asset sinc might problem licens stuff though. i gave look new extens api specif state allow dom manipulation, i guess no-go.\\n\\nif prioriti dev team (i understand way import stuff work short term), would accept pr would bring featur ?\\n\\nthank time awesom work,\\njabx\\n <#BODY-END#>\",\n",
       " '<#TITLE-START#> goto symbol show function defin insid file. <#TITLE-END#> <#BODY-START#> use \"go to symbol...\" (⇧⌘o) seem recogn certain way declar function javascript.\\n\\n<img width=\"607\" alt=\"screen shot 2015-11-18 at 5 49 37 pm\" src=\"https://cloud.githubusercontent.com/assets/1890516/11258194/d1923174-8e1c-11e5-9b2e-a17ba30a97bc.png\">\\n\\n\\nall three function show search \"searchable\", right? onli \"searchable\" \"alsosearchable\" show however.\\n\\nin case look like case work:\\n1. anonym function assign properti object object instantiated.\\n2. name function assign properti object instantiated.\\n\\nand case work:\\n1. anonym function assign properti object alreadi instantiated.\\n\\nthi work sublim text i\\'d love could work vs code well one main way i navig javascript code (especi thousand line code game).\\n <#BODY-END#>',\n",
       " \"<#TITLE-START#> mac omnisharp error rc1 <#TITLE-END#> <#BODY-START#> hey guy im get follow error omnisharp log look like look runtim wrong folder.\\n\\ncould find csx file\\n[error:omnisharp.dnx.dnxpaths] the specifi runtim path '1.0.0-rc1-final' exist. search locat /users/franzsilva/.dnx/runtimes/dnx-mono.1.0.0-rc1-fin\\n/users/franzsilva/.dnx/runtimes/kre-mono.1.0.0-rc1-fin\\n/users/franzsilva/.dnx/packages/kre-mono.1.0.0-rc1-fin\\n/users/franzsilva/.k/runtimes/dnx-mono.1.0.0-rc1-fin\\n/users/franzsilva/.k/runtimes/kre-mono.1.0.0-rc1-fin\\n/users/franzsilva/.k/packages/kre-mono.1.0.0-rc1-fin\\n/users/franzsilva/.kre/runtimes/dnx-mono.1.0.0-rc1-fin\\n/users/franzsilva/.kre/runtimes/kre-mono.1.0.0-rc1-fin\\n/users/franzsilva/.kre/packages/kre-mono.1.0.0-rc1-fin\\n <#BODY-END#>\",\n",
       " '<#TITLE-START#> unclos single/doubl quot templat string break syntax highlight <#TITLE-END#> <#BODY-START#> if use one singl doubl quot without close it, syntax highlight break (even es6 enabl target). heres\\' example:\\n\\n\\n\\nmy`jsconfig.json`:\\n\\n```\\n{\\n  \"compilerOptions\": {\\n    \"target\": \"ES6\"\\n  }\\n}\\n```\\n\\n**Edit**: in retrospect may simpli templat string*aren\\'t*highlighted, caus weird behavior.\\n <#BODY-END#>',\n",
       " '<#TITLE-START#> [less] mixin \"{ expected\" error <#TITLE-END#> <#BODY-START#> when edit**.less**file unexpect error show work mixins. the error text`{ expected`. these error show use mixin without wrap css selector use mixin media query.\\n\\nto reproduc take exampl lesscss.org.\\nhttp://lesscss.org/features/#loops-featur\\nhttp://codepen.io/anon/pen/ejqwnr?editors=010\\n\\nthe codepen contain code use replic`{ expected`error visual studio code 0.10.1. in codepen error shown code compil fine. if code put**.less**file visual studio code 0.10.1 see error line 8 11. the imag show red squiggl signifi*\"errors\"*code.\\n\\n\\n <#BODY-END#>',\n",
       " '<#TITLE-START#> [javascript] bring back es6 syntax highlight support <#TITLE-END#> <#BODY-START#> right now, keyword like`import``class``from`plain white.\\n <#BODY-END#>',\n",
       " '<#TITLE-START#> menu respons window 10 <#TITLE-END#> <#BODY-START#> so i creat fresh window 10 vm today tri beta. however, applic sluggish open big deal i never notic before. the problem menu working. they appear click menu bar, select menu item nothing. if i tri open project folder explor vscode open folder not. i restart reinstal fresh download installer. am i one see this?\\n <#BODY-END#>',\n",
       " '<#TITLE-START#> crush drag larg file open <#TITLE-END#> <#BODY-START#> \\n <#BODY-END#>',\n",
       " \"<#TITLE-START#> 'omnisharp:fixscripts' error referenceerror: promis defin <#TITLE-END#> <#BODY-START#> environ fedora 22 x86-64 python 2.7.10\\n\\ndownload unpack 0.10.1 sourc code\\n\\n```\\ncd ~/tmp/vscode-0.10.1\\nsudo npm install -g mocha gulp\\n./scripts/npm.sh install --arch=x64\\n```\\n\\nget error minut\\n\\n```\\n> csharp-o@0.1.0 postinstall /home/dove/tmp/vscode-0.10.1/extensions/csharp-o\\n> node ./node_modules/gulp/bin/gulp.js omnisharp\\n\\n[11:45:17] Using gulpfile /home/dove/tmp/vscode-0.10.1/extensions/csharp-o/gulpfile.js\\n[11:45:17] Starting 'omnisharp:clean'...\\n[11:45:17] Finished 'omnisharp:clean' after 5.84 ms\\n[11:45:17] Starting 'omnisharp:fetch'...\\n[gulp] Downloading https://github.com/OmniSharp/omnisharp-roslyn/releases/download/v1.5.6/omnisharp.tar.gz... 1% 4% 17% 48% 71% 97% Done\\n[11:45:27] Finished 'omnisharp:fetch' after 10 s\\n[11:45:27] Starting 'omnisharp:fixscripts'...\\n[11:45:27] 'omnisharp:fixscripts' errored after 174 μs\\n[11:45:27] ReferenceError: Promise is not defined\\n    at /home/dove/tmp/vscode-0.10.1/extensions/csharp-o/gulpfile.js:40:14\\n    at Array.map (native)\\n    at Gulp.<anonymous> (/home/dove/tmp/vscode-0.10.1/extensions/csharp-o/gulpfile.js:39:37)\\n    at module.exports (/home/dove/tmp/vscode-0.10.1/extensions/csharp-o/node_modules/gulp/node_modules/orchestrator/lib/runTask.js:34:7)\\n    at Gulp.Orchestrator._runTask (/home/dove/tmp/vscode-0.10.1/extensions/csharp-o/node_modules/gulp/node_modules/orchestrator/index.js:273:3)\\n    at Gulp.Orchestrator._runStep (/home/dove/tmp/vscode-0.10.1/extensions/csharp-o/node_modules/gulp/node_modules/orchestrator/index.js:214:10)\\n    at /home/dove/tmp/vscode-0.10.1/extensions/csharp-o/node_modules/gulp/node_modules/orchestrator/index.js:279:18\\n    at finish (/home/dove/tmp/vscode-0.10.1/extensions/csharp-o/node_modules/gulp/node_modules/orchestrator/lib/runTask.js:21:8)\\n    at /home/dove/tmp/vscode-0.10.1/extensions/csharp-o/node_modules/gulp/node_modules/orchestrator/lib/runTask.js:52:4\\n    at f (/home/dove/tmp/vscode-0.10.1/extensions/csharp-o/node_modules/gulp/node_modules/orchestrator/node_modules/end-of-stream/node_modules/once/once.js:17:25)\\nnpm ERR! weird error 1\\nnpm ERR! not ok code 0\\nnpm ERR! weird error 1\\nnpm ERR! not ok code 0\\n\\n\\n```\\n <#BODY-END#>\",\n",
       " \"<#TITLE-START#> bad default/regression: c++ .h header color c file <#TITLE-END#> <#BODY-START#> the new syntax highlight**0.10.0**great-ish seem broken**.h**file c++ project default c syntax miss c++ keywords.\\n\\n\\n\\nthe vast major c++ project i'v work encount github use .h header file**.hpp**,**.hh**,**.hxx**. even microsoft-ship c++ includ header**.h**.\\n\\nsinc i cannot chang extens file reason matur c++ project, i'm left either modifi vs code root instal cpp extens manual chang syntax highlight c++ everi time i open**.h**file. both solut ideal, especi sinc not problem earlier version vs code.\\n <#BODY-END#>\",\n",
       " '<#TITLE-START#> develop tools: node.j api error <#TITLE-END#> <#BODY-START#> \\n\\nnode.j modul support vs code.\\n\\n\\n\\nok atom, use check node.j api way.\\n <#BODY-END#>',\n",
       " \"<#TITLE-START#> [c++] c++ syntax highlight inconsist 0.10.0 <#TITLE-END#> <#BODY-START#> the improv syntax highlight 0.10.0 nice simpl keyword match comment detection. however, seem produc inconsist colour c++ files.\\n\\nall theme use default dark theme come vscode visual studio 2015. the default light theme problems. actually, theme i tri inconsist except cours colour different.\\n## the problem\\n\\nvscode 0.10.0:\\n\\n\\nsome specif concerns/issues:\\n1. whi`#include``#define`**pink**? i*really*hope new direct default vs dark theme.\\n2. whi`if`,`return`,`else`keyword**pink**`int`,`namespace`,`class`keyword good-old-v**blue**?\\n3. whi function name like`main()``do_stuff()`**yellow**, use**orange**?\\n4. whi class name like`Foo`namespac name like`space`use keyword**blue**colour?\\n## for refer\\n\\nvscode 0.9 (it simpler least consistent):\\n\\n\\nvisual studio 2015 (obvious infer languag i'd expect default dark theme):\\n\\n <#BODY-END#>\",\n",
       " '<#TITLE-START#> output window - crash load. <#TITLE-END#> <#BODY-START#> hi\\n\\nwhen configur vscode task runner`\"showOutput\": \"always\"`, i note output window may becom overwhelm process emit larg amount text/data. thi result applic becom unrespons requir restart.\\n\\nis possibl buffer output process page grace output window?\\n\\nmani thank\\n <#BODY-END#>',\n",
       " '<#TITLE-START#> support undo redo input field <#TITLE-END#> <#BODY-START#> how reproduc bug:\\n1. open text file;\\n2. edit someth file;\\n3. use cmd+f activ search box top right;\\n4. type keyword want search box;\\n5. chang keyword box; (e.g., add charact keyword)\\n6. use cmd+z undo;\\n7. you notic visual studio code actual undo text file edit, search keyword edit.\\n <#BODY-END#>',\n",
       " '<#TITLE-START#> when support razor intellisens asp.net 5? <#TITLE-END#> <#BODY-START#> when support razor intellisens asp.net 5\\n <#BODY-END#>',\n",
       " '<#TITLE-START#> how instal plugin behind proxi self-sign certificate? <#TITLE-END#> <#BODY-START#> i\\'m use vs code behind proxi self-sign certificate, tri instal plugin type \"ext instal \", show error \"unabl verifi first certificate\".\\n <#BODY-END#>',\n",
       " '<#TITLE-START#> the 0.10.1 updat cover file i edit snippets.json emmet. so i need edit again. is improve? <#TITLE-END#> <#BODY-START#> the 0.10.1 updat cover file i edit snippets.json emmet. so i need edit again. is improve?\\n <#BODY-END#>',\n",
       " '<#TITLE-START#> snippet variabl detect doubl backslash <#TITLE-END#> <#BODY-START#> in latex snippet, possibl declar variabl doubl backslash.\\nexample:\\n\\n```json\\n    \"section\": {\\n        \"prefix\": \"sec\",\\n        \"body\": [\\n            \"\\\\\\\\${1:sub}section${2:*}{${3:label}}\",\\n            \"\\\\n\\\\t$4\"\\n        ],\\n        \"description\": \"Start a subsection\"\\n    }\\n```\\n\\nexpand\\n\\n```tex\\n    \\\\${1:sub}section*{label}\\n```\\n <#BODY-END#>',\n",
       " '<#TITLE-START#> bring code window foreground open file command line reus exist window <#TITLE-END#> <#BODY-START#> current (on windows) open file via command line*--reuse-window*file open code flash icon taskbar stay background.\\npleas consid ad commandlin option --bring-to-front bring code window front regardless file open command line.\\n\\n//v code 0.10.1 window 7 profession sp1\\n <#BODY-END#>',\n",
       " '<#TITLE-START#> visual studio code longer respond <#TITLE-END#> <#BODY-START#> sometim editor freeze. kill task help only. have problem work home.\\ni notic start latest updat (0.10.1).\\n\\nwork php files.\\n\\nwindow 10 64.\\n <#BODY-END#>',\n",
       " '<#TITLE-START#> [php] miss user code auto-complet 0.10.1 <#TITLE-END#> <#BODY-START#> when write php code vscode work well complet user variabl begin $ sign complet user functions. that work 0.9.1 miss 0.10.1 - php built-in code complet shown.\\n <#BODY-END#>',\n",
       " '<#TITLE-START#> show applic window soon possibl <#TITLE-END#> <#BODY-START#> we light theme, dark theme see white background short time hide window dom access set background color.\\n\\nhttps://github.com/atom/atom-shell/issues/861\\n <#BODY-END#>',\n",
       " '<#TITLE-START#> remov depend atom-shell-installer-asset <#TITLE-END#> <#BODY-START#> no longer use\\n <#BODY-END#>',\n",
       " \"<#TITLE-START#> menu wrongli posit use multipl monitor <#TITLE-END#> <#BODY-START#> if click 'file' menu main code window second monitor, menu appear first monitor\\n\\nhttps://github.com/atom/atom/issues/3415\\n <#BODY-END#>\",\n",
       " '<#TITLE-START#> window 10: window put foreground case <#TITLE-END#> <#BODY-START#> sometim vs code window flash task bar store foreground (e.g. run code command line). see https://github.com/atom/electron/issues/2867\\n <#BODY-END#>',\n",
       " '<#TITLE-START#> ambigu \"cannot invok expression\" hint <#TITLE-END#> <#BODY-START#> i brows code visual studio code beta (v0.10.1), underlin 5. line say \"cannot invok express whose type lack call signature.\". i think code problem sinc typescript project someth type-restricted. i want report bug.\\n\\n```js\\n                let queryMethod = isEmail ?\\n                    { email: userModel.getSingleByEmail } :\\n                    { username: userModel.getSingleByUsername };\\n\\n                queryMethod(user_)\\n                    .then((userRecord) => {\\n```\\n\\nnote: i chang configur option enabl es6 jsconfig.json file.\\n <#BODY-END#>',\n",
       " '<#TITLE-START#> i can\\'t bind one key two command keybindings.json <#TITLE-END#> <#BODY-START#> my user keybindings.json like this:\\n[\\n{\\n\"key\": \"ctrl+/\",\\n\"command\": \"editor.action.commentlin && cursordown\",\\n\"when\": \"editortextfocus\"\\n}\\n]\\nbut work.\\n <#BODY-END#>',\n",
       " '<#TITLE-START#> mac: auto-upd prevent store set session <#TITLE-END#> <#BODY-START#> whenev i instal updat (prompt vs code) open file i open before.\\n\\ni think caus prompt process.exit() leav vs code (or actual chromium) chanc persist local storag disk. it reproduc call lifecycle.quit() done handler call process.exit().\\n\\nhave follow electron understand better.\\n <#BODY-END#>',\n",
       " \"<#TITLE-START#> osx el capitan: code crash quit split full-screen mode <#TITLE-END#> <#BODY-START#> 1. go full screen\\n2. split anoth app (eg iterm2), el capitan style\\n3. quit code\\n\\ncrash report come up. couldn't repro barebon electron.\\n <#BODY-END#>\",\n",
       " \"<#TITLE-START#> syntax highlighting: textmat grammar vs. inbuilt mechanism? <#TITLE-END#> <#BODY-START#> the offici document way contribut syntax highlight support new languag seem wrap textmat .tmlanguag grammars.\\n\\ni'm curiou also mechan vscode use support inbuilt languages. there also seem variou token those, like https://github.com/microsoft/vscode/blob/master/src/vs/editor/standalone-languages/csharp.t .\\n\\ni'm wonder vscode use two differ approaches.\\nif yes, advantag disadvantag give token base approach also avail extensions?\\nif no, els use-cas integr tokenizers?\\n <#BODY-END#>\",\n",
       " '<#TITLE-START#> diff editor: restor action quickli toggl inlin normal diff <#TITLE-END#> <#BODY-START#> thi set 0.10.x make hard quickli toggl mode without chang setting.\\n <#BODY-END#>',\n",
       " '<#TITLE-START#> crash open 50mb yaml file <#TITLE-END#> <#BODY-START#> version 0.10.1\\n\\nas subject says, when i attempt open 55mb yaml file, vs code crashes.\\n\\nopen smaller file seem work fine (5mb). the larger one make blow everi time.\\n\\nlet know i provid information.\\n <#BODY-END#>',\n",
       " '<#TITLE-START#> git statu file explor <#TITLE-END#> <#BODY-START#> similar atom provid project explorer:\\n1. new file display green.\\n2. modifi display yellow/orange.\\n3. ignor file display transparent-ish.\\n\\nthank\\n <#BODY-END#>',\n",
       " '<#TITLE-START#> not auto complet grammar languag like c++, python, coffeescript... <#TITLE-END#> <#BODY-START#> auto completions? vscode give suggest auto complet i type.\\n <#BODY-END#>',\n",
       " '<#TITLE-START#> jump match bracket issu <#TITLE-END#> <#BODY-START#> \"jump match bracket\" (⇧⌘]) goe outer side left bracket inner side right bracket. thi break matching.\\n\\nto reproduc issu ⇧⌘] nest bracket start outer ones, see cursor end (goe inner coupl time).\\n <#BODY-END#>',\n",
       " \"<#TITLE-START#> test occasion fail spectacularli os x <#TITLE-END#> <#BODY-START#> recently, @aeschli @alexandrudima chanc caus npe happen tests. it' possibl uncaught except caus ugli chain error simpli make mani test fail. investigate!\\n <#BODY-END#>\",\n",
       " '<#TITLE-START#> goto definit act earli case <#TITLE-END#> <#BODY-START#> when press mous button hold control releas mous button, vs code jump definition. thi happen hold ctrl mous down.\\n\\none problem causes: when select text copying/cutting/past via ctrl+x/c/v sure let go mous button press ctrl.\\n\\nanoth issu ctrl navig recent file ctrl+tab go backward list via ctrl+shift+tab, decid actual need go backwards: you releas shift get immedi thrown current select file. i think happen let go ctrl case.\\n\\nin opinion jump to definit probabl happen regardless modifi key press text select creat mous action.\\n\\n(thi report https://code.visualstudio.com/issues/detail/18527, i guess github issu way forward, right?!)\\n <#BODY-END#>',\n",
       " '<#TITLE-START#> (javascript) auto-complet block comment work sinc 0.10.1 <#TITLE-END#> <#BODY-START#> in previou version vs code block comment finish type`/**`, seem case.\\n\\n\\n <#BODY-END#>',\n",
       " '<#TITLE-START#> doubl click watch express variabl jump littl bit <#TITLE-END#> <#BODY-START#> basic move pixel pixel get right\\n <#BODY-END#>',\n",
       " \"<#TITLE-START#> move gulpfile.* /build/ folder <#TITLE-END#> <#BODY-START#> would nice we'd less clutter root folder singl top level gulpfile.j includ other /build/ folder\\n <#BODY-END#>\",\n",
       " '<#TITLE-START#> [debug] consol http link match incorrectli <#TITLE-END#> <#BODY-START#> vs code show follow output console:\\n\\n\\n\\ngoogl chrome show one:\\n\\n\\n\\nthe sourc code link match correctli vs code, therefor i click first link example, vc code tri access file drive`p:/`obvious exist:\\n\\n\\n <#BODY-END#>',\n",
       " '<#TITLE-START#> keybind use bracket (eg. indent) work danish keyboard layout mac osx <#TITLE-END#> <#BODY-START#> the reason like enter key layout, use \\'option\\' (alt) button.\\nso instance, command effect \"cmd+alt+8\" cmd+[.\\nperhap vs code need better os-support text input (or least use keycodes).\\n <#BODY-END#>',\n",
       " '<#TITLE-START#> instal extension: order extens list <#TITLE-END#> <#BODY-START#> when tri instal yeoman gener with:\\n`ext install yo`\\nyeoman gener last list first\\n`yo`name packag\\nhundr packag pain find.\\ni know instal with:\\n`ext install yeoman`\\npriorit packag name somehow?\\n\\n\\n <#BODY-END#>',\n",
       " '<#TITLE-START#> abil modifi caret/cursor <#TITLE-END#> <#BODY-START#> is anything, expos css someth caret/cursor, modifi extension(for exampl modifi shape color)? i search api, i find anything, would help problem. is someth avail api atm expos futur release?\\n <#BODY-END#>']"
      ]
     },
     "execution_count": 23,
     "metadata": {},
     "output_type": "execute_result"
    }
   ],
   "source": [
    "titles"
   ]
  },
  {
   "cell_type": "code",
   "execution_count": 37,
   "metadata": {},
   "outputs": [
    {
     "name": "stderr",
     "output_type": "stream",
     "text": [
      "/Users/casarf/Documents/USI/Master/semester3/SoftwareAnalytics/project/bug-triaging/.venv/lib/python3.12/site-packages/transformers/tokenization_utils_base.py:1617: FutureWarning: `clean_up_tokenization_spaces` was not set. It will be set to `True` by default. This behavior will be deprecated in transformers v4.45, and will be then set to `False` by default. For more details check this issue: https://github.com/huggingface/transformers/issues/31884\n",
      "  warnings.warn(\n"
     ]
    }
   ],
   "source": [
    "from transformers import AutoTokenizer\n",
    "\n",
    "# Choose a model, e.g., 'distilbert-base-uncased'\n",
    "# model_name = 'distilbert-base-uncased-finetuned-sst-2-english'\n",
    "model_name = 'distilbert-base-uncased'\n",
    "tokenizer = AutoTokenizer.from_pretrained(model_name)\n",
    "\n",
    "# Tokenize the input titles\n",
    "inputs = tokenizer(titles, padding=True, truncation=True, return_tensors='pt', max_length=128)\n",
    "# inputs = tokenizer(titles, padding=True, truncation=True, return_tensors='pt', max_length=128).to(\"cuda\")\n"
   ]
  },
  {
   "cell_type": "code",
   "execution_count": 38,
   "metadata": {},
   "outputs": [
    {
     "data": {
      "text/plain": [
       "115"
      ]
     },
     "execution_count": 38,
     "metadata": {},
     "output_type": "execute_result"
    }
   ],
   "source": [
    "from datasets import Dataset\n",
    "\n",
    "# Create a Hugging Face dataset\n",
    "dataset = Dataset.from_dict({\n",
    "    'input_ids': inputs['input_ids'],\n",
    "    'attention_mask': inputs['attention_mask'],\n",
    "    'labels': labels\n",
    "})\n",
    "\n",
    "# Split the dataset into training and validation sets\n",
    "train_test = dataset.train_test_split(test_size=0.2)\n",
    "train_dataset = train_test['train']\n",
    "test_dataset = train_test['test']\n",
    "\n",
    "len(labels)\n"
   ]
  },
  {
   "cell_type": "code",
   "execution_count": 39,
   "metadata": {},
   "outputs": [
    {
     "data": {
      "text/plain": [
       "7"
      ]
     },
     "execution_count": 39,
     "metadata": {},
     "output_type": "execute_result"
    }
   ],
   "source": [
    "import evaluate\n",
    "import numpy as np\n",
    "\n",
    "# Load metric functions\n",
    "accuracy_metric = evaluate.load('accuracy')\n",
    "precision_metric = evaluate.load('precision')\n",
    "recall_metric = evaluate.load('recall')\n",
    "f1_metric = evaluate.load('f1')\n",
    "\n",
    "# Define compute metrics function\n",
    "def compute_metrics(eval_pred):\n",
    "    logits, labels = eval_pred\n",
    "    predictions = np.argmax(logits, axis=-1)\n",
    "    \n",
    "    accuracy = accuracy_metric.compute(predictions=predictions, references=labels)\n",
    "    precision = precision_metric.compute(predictions=predictions, references=labels, average='weighted')\n",
    "    recall = recall_metric.compute(predictions=predictions, references=labels, average='weighted')\n",
    "    f1 = f1_metric.compute(predictions=predictions, references=labels, average='weighted')\n",
    "    \n",
    "    return {\n",
    "        'accuracy': accuracy['accuracy'],\n",
    "        'precision': precision['precision'],\n",
    "        'recall': recall['recall'],\n",
    "        'f1': f1['f1'],\n",
    "    }\n",
    "    "
   ]
  },
  {
   "cell_type": "code",
   "execution_count": 40,
   "metadata": {},
   "outputs": [
    {
     "name": "stderr",
     "output_type": "stream",
     "text": [
      "Some weights of DistilBertForSequenceClassification were not initialized from the model checkpoint at distilbert-base-uncased and are newly initialized: ['classifier.bias', 'classifier.weight', 'pre_classifier.bias', 'pre_classifier.weight']\n",
      "You should probably TRAIN this model on a down-stream task to be able to use it for predictions and inference.\n",
      "/Users/casarf/Documents/USI/Master/semester3/SoftwareAnalytics/project/bug-triaging/.venv/lib/python3.12/site-packages/transformers/training_args.py:1545: FutureWarning: `evaluation_strategy` is deprecated and will be removed in version 4.46 of 🤗 Transformers. Use `eval_strategy` instead\n",
      "  warnings.warn(\n",
      " 33%|███▎      | 6/18 [00:01<00:02,  5.47it/s]/Users/casarf/Documents/USI/Master/semester3/SoftwareAnalytics/project/bug-triaging/.venv/lib/python3.12/site-packages/sklearn/metrics/_classification.py:1531: UndefinedMetricWarning: Precision is ill-defined and being set to 0.0 in labels with no predicted samples. Use `zero_division` parameter to control this behavior.\n",
      "  _warn_prf(average, modifier, f\"{metric.capitalize()} is\", len(result))\n",
      "\n",
      " 39%|███▉      | 7/18 [00:01<00:02,  4.58it/s]"
     ]
    },
    {
     "name": "stdout",
     "output_type": "stream",
     "text": [
      "{'eval_loss': 1.956424593925476, 'eval_accuracy': 0.17391304347826086, 'eval_precision': 0.05124223602484472, 'eval_recall': 0.17391304347826086, 'eval_f1': 0.0782608695652174, 'eval_runtime': 0.0901, 'eval_samples_per_second': 255.275, 'eval_steps_per_second': 11.099, 'epoch': 1.0}\n"
     ]
    },
    {
     "name": "stderr",
     "output_type": "stream",
     "text": [
      " 67%|██████▋   | 12/18 [00:02<00:01,  5.29it/s]/Users/casarf/Documents/USI/Master/semester3/SoftwareAnalytics/project/bug-triaging/.venv/lib/python3.12/site-packages/sklearn/metrics/_classification.py:1531: UndefinedMetricWarning: Precision is ill-defined and being set to 0.0 in labels with no predicted samples. Use `zero_division` parameter to control this behavior.\n",
      "  _warn_prf(average, modifier, f\"{metric.capitalize()} is\", len(result))\n",
      "\n",
      " 67%|██████▋   | 12/18 [00:02<00:01,  5.29it/s]"
     ]
    },
    {
     "name": "stdout",
     "output_type": "stream",
     "text": [
      "{'eval_loss': 1.9487797021865845, 'eval_accuracy': 0.21739130434782608, 'eval_precision': 0.08009153318077802, 'eval_recall': 0.21739130434782608, 'eval_f1': 0.10396975425330812, 'eval_runtime': 0.1156, 'eval_samples_per_second': 198.914, 'eval_steps_per_second': 8.648, 'epoch': 2.0}\n"
     ]
    },
    {
     "name": "stderr",
     "output_type": "stream",
     "text": [
      "100%|██████████| 18/18 [00:03<00:00,  5.20it/s]/Users/casarf/Documents/USI/Master/semester3/SoftwareAnalytics/project/bug-triaging/.venv/lib/python3.12/site-packages/sklearn/metrics/_classification.py:1531: UndefinedMetricWarning: Precision is ill-defined and being set to 0.0 in labels with no predicted samples. Use `zero_division` parameter to control this behavior.\n",
      "  _warn_prf(average, modifier, f\"{metric.capitalize()} is\", len(result))\n",
      "\n",
      "100%|██████████| 18/18 [00:04<00:00,  3.82it/s]"
     ]
    },
    {
     "name": "stdout",
     "output_type": "stream",
     "text": [
      "{'eval_loss': 1.9498947858810425, 'eval_accuracy': 0.2608695652173913, 'eval_precision': 0.12087912087912088, 'eval_recall': 0.2608695652173913, 'eval_f1': 0.15703324808184146, 'eval_runtime': 0.1029, 'eval_samples_per_second': 223.577, 'eval_steps_per_second': 9.721, 'epoch': 3.0}\n",
      "{'train_runtime': 4.7125, 'train_samples_per_second': 58.568, 'train_steps_per_second': 3.82, 'train_loss': 1.9143558078342013, 'epoch': 3.0}\n"
     ]
    },
    {
     "name": "stderr",
     "output_type": "stream",
     "text": [
      "\n"
     ]
    },
    {
     "data": {
      "text/plain": [
       "TrainOutput(global_step=18, training_loss=1.9143558078342013, metrics={'train_runtime': 4.7125, 'train_samples_per_second': 58.568, 'train_steps_per_second': 3.82, 'total_flos': 9141065524224.0, 'train_loss': 1.9143558078342013, 'epoch': 3.0})"
      ]
     },
     "execution_count": 40,
     "metadata": {},
     "output_type": "execute_result"
    }
   ],
   "source": [
    "from transformers import AutoModelForSequenceClassification, Trainer, TrainingArguments\n",
    "\n",
    "# Load the model\n",
    "model = AutoModelForSequenceClassification.from_pretrained(model_name, num_labels=len(label_encoder.classes_))\n",
    "\n",
    "# Define training arguments\n",
    "training_args = TrainingArguments(\n",
    "    output_dir='./results',\n",
    "    evaluation_strategy='epoch',\n",
    "    learning_rate=2e-5,\n",
    "    per_device_train_batch_size=16,\n",
    "    per_device_eval_batch_size=64,\n",
    "    num_train_epochs=3,\n",
    "    weight_decay=0.01,\n",
    ")\n",
    "\n",
    "# Create a Trainer\n",
    "trainer = Trainer(\n",
    "    model=model,\n",
    "    args=training_args,\n",
    "    train_dataset=train_dataset,\n",
    "    eval_dataset=test_dataset,\n",
    "    compute_metrics=compute_metrics\n",
    ")\n",
    "\n",
    "# Train the model\n",
    "trainer.train()\n"
   ]
  },
  {
   "cell_type": "code",
   "execution_count": 41,
   "metadata": {},
   "outputs": [
    {
     "name": "stderr",
     "output_type": "stream",
     "text": [
      "  0%|          | 0/1 [00:00<?, ?it/s]/Users/casarf/Documents/USI/Master/semester3/SoftwareAnalytics/project/bug-triaging/.venv/lib/python3.12/site-packages/sklearn/metrics/_classification.py:1531: UndefinedMetricWarning: Precision is ill-defined and being set to 0.0 in labels with no predicted samples. Use `zero_division` parameter to control this behavior.\n",
      "  _warn_prf(average, modifier, f\"{metric.capitalize()} is\", len(result))\n",
      "100%|██████████| 1/1 [00:00<00:00, 80.72it/s]\n"
     ]
    },
    {
     "data": {
      "text/plain": [
       "{'eval_loss': 1.9498947858810425,\n",
       " 'eval_accuracy': 0.2608695652173913,\n",
       " 'eval_precision': 0.12087912087912088,\n",
       " 'eval_recall': 0.2608695652173913,\n",
       " 'eval_f1': 0.15703324808184146,\n",
       " 'eval_runtime': 0.16,\n",
       " 'eval_samples_per_second': 143.788,\n",
       " 'eval_steps_per_second': 6.252,\n",
       " 'epoch': 3.0}"
      ]
     },
     "execution_count": 41,
     "metadata": {},
     "output_type": "execute_result"
    }
   ],
   "source": [
    "trainer.evaluate()\n"
   ]
  },
  {
   "cell_type": "markdown",
   "metadata": {},
   "source": [
    "## CUDA"
   ]
  },
  {
   "cell_type": "code",
   "execution_count": 20,
   "metadata": {},
   "outputs": [
    {
     "name": "stdout",
     "output_type": "stream",
     "text": [
      "sbatten\n"
     ]
    }
   ],
   "source": [
    "def predict_assignee(title):\n",
    "    inputs = tokenizer(title, return_tensors='pt', padding=True, truncation=True, max_length=128).to('cuda')\n",
    "    outputs = model(**inputs)\n",
    "    predicted_class = outputs.logits.argmax(dim=1).item()\n",
    "    return label_encoder.inverse_transform([predicted_class])[0]\n",
    "\n",
    "# Example prediction\n",
    "print(predict_assignee(\"Side bar always showing when opening VS Code\"))\n"
   ]
  },
  {
   "cell_type": "markdown",
   "metadata": {},
   "source": [
    "## MACOS"
   ]
  },
  {
   "cell_type": "code",
   "execution_count": 52,
   "metadata": {},
   "outputs": [
    {
     "name": "stdout",
     "output_type": "stream",
     "text": [
      "1: aeschli: 0.16\n",
      "2: jrieken: 0.16\n",
      "3: bpasero: 0.16\n",
      "4: joaomoreno: 0.14\n",
      "5: alexdima: 0.14\n",
      "6: weinand: 0.13\n",
      "7: isidorn: 0.11\n"
     ]
    },
    {
     "name": "stderr",
     "output_type": "stream",
     "text": [
      "/var/folders/2w/_w5hf_g91nb_rfqwyq6pv2mr0000gn/T/ipykernel_10551/1114867945.py:5: UserWarning: 'has_mps' is deprecated, please use 'torch.backends.mps.is_built()'\n",
      "  device = torch.device('mps') if torch.has_mps else torch.device('cpu')\n"
     ]
    }
   ],
   "source": [
    "import torch\n",
    "from scipy.special import softmax\n",
    "\n",
    "# Check if MPS is available\n",
    "device = torch.device('mps') if torch.has_mps else torch.device('cpu')\n",
    "\n",
    "# Move the model to the correct device\n",
    "model.to(device)\n",
    "\n",
    "# def predict_assignee(title):\n",
    "#     # Tokenize the input\n",
    "#     inputs = tokenizer(title, return_tensors='pt', padding=True, truncation=True, max_length=128)\n",
    "\n",
    "#     # Move input tensors to the correct device\n",
    "#     inputs = {key: value.to(device) for key, value in inputs.items()}\n",
    "\n",
    "#     # Get model output\n",
    "#     outputs = model(**inputs)\n",
    "\n",
    "#     # Get the predicted class\n",
    "#     predicted_class = outputs.logits.argmax(dim=1).item()\n",
    "\n",
    "#     # Return the assignee name\n",
    "#     return label_encoder.inverse_transform([predicted_class])[0]\n",
    "\n",
    "# Example prediction\n",
    "# print(predict_assignee(\"Change the name\"))\n",
    "\n",
    "def predict_assignee(title, body):\n",
    "    # Concatenate title and body\n",
    "    combined_input = title + \" \" + body\n",
    "    \n",
    "    # Tokenize the input\n",
    "    inputs = tokenizer(combined_input, return_tensors='pt', padding=True, truncation=True, max_length=128)\n",
    "    \n",
    "    # Move input tensors to the correct device\n",
    "    inputs = {key: value.to(device) for key, value in inputs.items()}\n",
    "    \n",
    "    # Get model output\n",
    "    outputs = model(**inputs)\n",
    "    \n",
    "    # Get logits\n",
    "    logits = outputs.logits.detach().cpu().numpy()[0]\n",
    "    \n",
    "    # Get probabilities using softmax\n",
    "    probabilities = softmax(logits)\n",
    "    \n",
    "    # Create a list of (assignee, probability) pairs\n",
    "    assignee_probs = list(zip(label_encoder.classes_, probabilities))\n",
    "    \n",
    "    # Sort by probability in descending order\n",
    "    ranked_assignees = sorted(assignee_probs, key=lambda x: x[1], reverse=True)\n",
    "    \n",
    "    return ranked_assignees\n",
    "\n",
    "# Example prediction with both title and body\n",
    "ranked_list = predict_assignee(\"Side bar always showing when opening VS Code\", \"When opening VS Code, the sidebar is always visible\")\n",
    "\n",
    "for index, (assignee, probability) in enumerate(ranked_list):\n",
    "    print(f\"{index + 1}: {assignee}: {probability:.2f}\")\n",
    "\n"
   ]
  }
 ],
 "metadata": {
  "kernelspec": {
   "display_name": "base",
   "language": "python",
   "name": "python3"
  },
  "language_info": {
   "codemirror_mode": {
    "name": "ipython",
    "version": 3
   },
   "file_extension": ".py",
   "mimetype": "text/x-python",
   "name": "python",
   "nbconvert_exporter": "python",
   "pygments_lexer": "ipython3",
   "version": "3.10.14"
  }
 },
 "nbformat": 4,
 "nbformat_minor": 2
}
